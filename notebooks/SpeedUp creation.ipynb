{
 "cells": [
  {
   "cell_type": "code",
   "execution_count": 1,
   "metadata": {},
   "outputs": [],
   "source": [
    "import pandas as pd\n",
    "from scipy import *\n",
    "from scipy.sparse import *\n",
    "import os"
   ]
  },
  {
   "cell_type": "code",
   "execution_count": 2,
   "metadata": {},
   "outputs": [],
   "source": [
    "%load_ext Cython"
   ]
  },
  {
   "cell_type": "code",
   "execution_count": 3,
   "metadata": {},
   "outputs": [],
   "source": [
    "import numpy as np"
   ]
  },
  {
   "cell_type": "code",
   "execution_count": 4,
   "metadata": {},
   "outputs": [],
   "source": [
    "from tqdm.auto import tqdm"
   ]
  },
  {
   "cell_type": "code",
   "execution_count": 5,
   "metadata": {},
   "outputs": [],
   "source": [
    "sim_name = load_npz(os.path.join('../dataset/validation/similarities/jaccard_uncleaned_name_300k_validation_2ngrams.npz'))    \n",
    "sim_email = load_npz(os.path.join('../dataset/validation/similarities/jaccard_uncleaned_email_300k_validation_2ngrams.npz'))    \n",
    "sim_phone = load_npz(os.path.join('../dataset/validation/similarities/jaccard_uncleaned_phone_300k_validation_2ngrams.npz'))    \n",
    "sim_address = load_npz(os.path.join('../dataset/validation/similarities/jaccard_uncleaned_address_300k_validation_2ngrams.npz'))    "
   ]
  },
  {
   "cell_type": "code",
   "execution_count": 6,
   "metadata": {},
   "outputs": [],
   "source": [
    "hybrid = sim_name + 0.2 * sim_email + 0.2 * sim_phone + 0.2 * sim_address"
   ]
  },
  {
   "cell_type": "code",
   "execution_count": 7,
   "metadata": {},
   "outputs": [],
   "source": [
    "indices = hybrid[1].nonzero()[1][hybrid[1].data.argsort()[::-1]][:50]"
   ]
  },
  {
   "cell_type": "code",
   "execution_count": 8,
   "metadata": {},
   "outputs": [
    {
     "data": {
      "text/plain": [
       "array([     1, 167911,  31141,  31142,  49483,  52528,  52530,  52529,\n",
       "        87312,  87314,  87311,  87313, 171753, 171751, 171752, 131766,\n",
       "        28454, 131767,  22580,  22581,  22582,  22584,  22585,  22588,\n",
       "        22583, 148113, 148114, 148115, 258124,  48989, 112878, 112879,\n",
       "       112880, 112881, 229279, 229278,  28458,  28457,  97455,  34445,\n",
       "       188794, 109067,  98554, 440753, 425852, 211926, 111801,  27442,\n",
       "        88923,  27443], dtype=int32)"
      ]
     },
     "execution_count": 8,
     "metadata": {},
     "output_type": "execute_result"
    }
   ],
   "source": [
    "indices"
   ]
  },
  {
   "cell_type": "code",
   "execution_count": 9,
   "metadata": {},
   "outputs": [],
   "source": [
    "name_row = sim_name[1, indices]"
   ]
  },
  {
   "cell_type": "code",
   "execution_count": 10,
   "metadata": {},
   "outputs": [
    {
     "data": {
      "text/plain": [
       "array([1.        , 0.5208333 , 0.50980395, 0.50980395, 0.48      ,\n",
       "       0.4509804 , 0.4509804 , 0.4509804 , 0.44680852, 0.44680852,\n",
       "       0.44680852, 0.44680852, 0.44067797, 0.44067797, 0.44067797,\n",
       "       0.4375    , 0.4375    , 0.4375    , 0.43396226, 0.43396226,\n",
       "       0.43396226, 0.43396226, 0.43396226, 0.43396226, 0.43396226,\n",
       "       0.43137255, 0.43137255, 0.43137255, 0.42857143, 0.42307693,\n",
       "       0.42307693, 0.42307693, 0.42307693, 0.42307693, 0.42      ,\n",
       "       0.42      , 0.42      , 0.42      , 0.41666666, 0.41666666,\n",
       "       0.41666666, 0.41666666, 0.41509435, 0.41509435, 0.41509435,\n",
       "       0.41509435, 0.4117647 , 0.4074074 , 0.4074074 , 0.4074074 ],\n",
       "      dtype=float32)"
      ]
     },
     "execution_count": 10,
     "metadata": {},
     "output_type": "execute_result"
    }
   ],
   "source": [
    "name_row.toarray()[0]"
   ]
  },
  {
   "cell_type": "code",
   "execution_count": 7,
   "metadata": {},
   "outputs": [],
   "source": [
    "df_test = pd.read_csv(\"../dataset/validation/test.csv\", escapechar=\"\\\\\")"
   ]
  },
  {
   "cell_type": "code",
   "execution_count": 8,
   "metadata": {},
   "outputs": [],
   "source": [
    "df_test = df_test.sort_values(by=['record_id']).reset_index(drop=True)"
   ]
  },
  {
   "cell_type": "code",
   "execution_count": 9,
   "metadata": {},
   "outputs": [],
   "source": [
    "df_train = pd.read_csv(\"../dataset/validation/train.csv\", escapechar=\"\\\\\")\n",
    "df_train = df_train.sort_values(by=['record_id']).reset_index(drop=True)"
   ]
  },
  {
   "cell_type": "code",
   "execution_count": 12,
   "metadata": {},
   "outputs": [
    {
     "name": "stderr",
     "output_type": "stream",
     "text": [
      "/usr/local/lib/python3.7/site-packages/ipykernel_launcher.py:12: TqdmDeprecationWarning: This function will be removed in tqdm==5.0.0\n",
      "Please use `tqdm.notebook.tqdm` instead of `tqdm.tqdm_notebook`\n",
      "  if sys.path[0] == '':\n"
     ]
    },
    {
     "data": {
      "application/vnd.jupyter.widget-view+json": {
       "model_id": "2de817128b69473cb61442d0ecffe05b",
       "version_major": 2,
       "version_minor": 0
      },
      "text/plain": [
       "HBox(children=(FloatProgress(value=0.0, max=228176.0), HTML(value='')))"
      ]
     },
     "metadata": {},
     "output_type": "display_data"
    },
    {
     "name": "stdout",
     "output_type": "stream",
     "text": [
      "\n"
     ]
    }
   ],
   "source": [
    "linid_ = []\n",
    "linid_idx = []\n",
    "linid_score = []\n",
    "linid_name_cosine = []\n",
    "linid_email_cosine = []\n",
    "linid_phone_cosine = []\n",
    "linid_address_cosine = []\n",
    "linid_record_id = []\n",
    "k=50\n",
    "\n",
    "tr = df_train[['record_id', 'linked_id']]\n",
    "for x in tqdm(range(df_test.shape[0])):\n",
    "    #df = df_train.loc[hybrid[x].nonzero()[1][hybrid[x].data.argsort()[::-1]],:][:k]\n",
    "    indices = hybrid[x].nonzero()[1][hybrid[x].data.argsort()[::-1]][:k]\n",
    "    #df = tr.loc[indices, :][:k]\n",
    "    #linid_.append(df['linked_id'].values)\n",
    "    linid_idx.append(indices)    # TODO CAMBIATO QUI\n",
    "    #linid_record_id.append(df.record_id.values)\n",
    "    #linid_score.append(np.sort(hybrid[x].data)[::-1][:k]) # Questo ha senso perché tanto gli indices sono sortati in base allo scores di hybrid\n",
    "    #linid_name_cosine.append([sim_name[x, t] for t in indices])\n",
    "    #linid_email_cosine.append([sim_email[x, t] for t in indices])\n",
    "    #linid_phone_cosine.append([sim_phone[x, t] for t in indices])\n",
    "    #linid_address_cosine.append([sim_address[x, t] for t in indices])\n"
   ]
  },
  {
   "cell_type": "code",
   "execution_count": 323,
   "metadata": {
    "scrolled": true
   },
   "outputs": [
    {
     "data": {
      "text/plain": [
       "[1.0,\n",
       " 0.53846157,\n",
       " 0.53846157,\n",
       " 0.375,\n",
       " 0.42857143,\n",
       " 0.42857143,\n",
       " 0.42857143,\n",
       " 0.42857143,\n",
       " 0.4,\n",
       " 0.3125,\n",
       " 0.375,\n",
       " 0.375,\n",
       " 0.375,\n",
       " 0.375,\n",
       " 0.375,\n",
       " 0.375,\n",
       " 0.35714287,\n",
       " 0.35714287,\n",
       " 0.35714287,\n",
       " 0.3529412,\n",
       " 0.3529412,\n",
       " 0.3529412,\n",
       " 0.3529412,\n",
       " 0.3529412,\n",
       " 0.3529412,\n",
       " 0.3529412,\n",
       " 0.3529412,\n",
       " 0.2631579,\n",
       " 0.2777778,\n",
       " 0.2777778,\n",
       " 0.33333334,\n",
       " 0.33333334,\n",
       " 0.33333334,\n",
       " 0.33333334,\n",
       " 0.33333334,\n",
       " 0.33333334,\n",
       " 0.33333334,\n",
       " 0.33333334,\n",
       " 0.33333334,\n",
       " 0.33333334,\n",
       " 0.33333334,\n",
       " 0.33333334,\n",
       " 0.33333334,\n",
       " 0.33333334,\n",
       " 0.33333334,\n",
       " 0.33333334,\n",
       " 0.33333334,\n",
       " 0.31578946,\n",
       " 0.31578946,\n",
       " 0.31578946]"
      ]
     },
     "execution_count": 323,
     "metadata": {},
     "output_type": "execute_result"
    }
   ],
   "source": [
    "linid_name_cosine[2]"
   ]
  },
  {
   "cell_type": "markdown",
   "metadata": {},
   "source": [
    "## Not Correct Cython : wrong order of returned values"
   ]
  },
  {
   "cell_type": "code",
   "execution_count": 319,
   "metadata": {},
   "outputs": [],
   "source": [
    "%%cython\n",
    "import numpy as np\n",
    "from tqdm import tqdm_notebook as tqdm\n",
    "\n",
    "def extract_values(list idxs, int k, float[:] data, int[:] indices, int[:] indptr):\n",
    "    \n",
    "    cdef Py_ssize_t x_idxs = len(idxs)\n",
    "    cdef int x\n",
    "    cdef int t\n",
    "    cdef int indptr_start\n",
    "    cdef int indptr_end\n",
    "    cdef float[:] row_data\n",
    "    cdef long[:] available_idxs\n",
    "    \n",
    "    res = np.zeros((x_idxs, k), dtype=float)\n",
    "    cdef double[:, :] res_view = res\n",
    "    \n",
    "    for x in tqdm(range(x_idxs)):\n",
    "        indptr_start = indptr[x]\n",
    "        indptr_end = indptr[x+1]\n",
    "        #available_idxs = list(set(idxs[x]).intersection(set(indices[indptr_start: indptr_end])))\n",
    "        available_idxs = np.where(np.isin(indices[indptr_start : indptr_end], idxs[x]))[0]\n",
    "        row_data = data[indptr_start:indptr_end]\n",
    "        for t in range(len(available_idxs)):\n",
    "            res_view[x, t] = row_data[available_idxs[t]] \n",
    "        \n",
    "    return res"
   ]
  },
  {
   "cell_type": "code",
   "execution_count": 268,
   "metadata": {
    "scrolled": false
   },
   "outputs": [
    {
     "data": {
      "application/vnd.jupyter.widget-view+json": {
       "model_id": "2cecf5adde4d4059b224cf2450233e50",
       "version_major": 2,
       "version_minor": 0
      },
      "text/plain": [
       "HBox(children=(IntProgress(value=0, max=228176), HTML(value='')))"
      ]
     },
     "metadata": {},
     "output_type": "display_data"
    },
    {
     "name": "stdout",
     "output_type": "stream",
     "text": [
      "\n"
     ]
    },
    {
     "ename": "KeyboardInterrupt",
     "evalue": "",
     "output_type": "error",
     "traceback": [
      "\u001b[0;31m---------------------------------------------------------------------------\u001b[0m",
      "\u001b[0;31mKeyboardInterrupt\u001b[0m                         Traceback (most recent call last)",
      "\u001b[0;32m<ipython-input-268-7e51bc762fb4>\u001b[0m in \u001b[0;36m<module>\u001b[0;34m\u001b[0m\n\u001b[0;32m----> 1\u001b[0;31m \u001b[0ma\u001b[0m \u001b[0;34m=\u001b[0m \u001b[0mextract_values\u001b[0m\u001b[0;34m(\u001b[0m\u001b[0mlinid_idx\u001b[0m\u001b[0;34m,\u001b[0m \u001b[0;36m50\u001b[0m\u001b[0;34m,\u001b[0m \u001b[0msim_name\u001b[0m\u001b[0;34m.\u001b[0m\u001b[0mdata\u001b[0m\u001b[0;34m,\u001b[0m \u001b[0msim_name\u001b[0m\u001b[0;34m.\u001b[0m\u001b[0mindices\u001b[0m\u001b[0;34m,\u001b[0m \u001b[0msim_name\u001b[0m\u001b[0;34m.\u001b[0m\u001b[0mindptr\u001b[0m\u001b[0;34m)\u001b[0m\u001b[0;34m\u001b[0m\u001b[0;34m\u001b[0m\u001b[0m\n\u001b[0m",
      "\u001b[0;32m_cython_magic_d36ccaf76b82326cf51e679ea8428b6a.pyx\u001b[0m in \u001b[0;36m_cython_magic_d36ccaf76b82326cf51e679ea8428b6a.extract_values\u001b[0;34m()\u001b[0m\n",
      "\u001b[0;32m<__array_function__ internals>\u001b[0m in \u001b[0;36misin\u001b[0;34m(*args, **kwargs)\u001b[0m\n",
      "\u001b[0;32m/usr/local/lib/python3.7/site-packages/numpy/lib/arraysetops.py\u001b[0m in \u001b[0;36misin\u001b[0;34m(element, test_elements, assume_unique, invert)\u001b[0m\n\u001b[1;32m    695\u001b[0m     \u001b[0melement\u001b[0m \u001b[0;34m=\u001b[0m \u001b[0mnp\u001b[0m\u001b[0;34m.\u001b[0m\u001b[0masarray\u001b[0m\u001b[0;34m(\u001b[0m\u001b[0melement\u001b[0m\u001b[0;34m)\u001b[0m\u001b[0;34m\u001b[0m\u001b[0;34m\u001b[0m\u001b[0m\n\u001b[1;32m    696\u001b[0m     return in1d(element, test_elements, assume_unique=assume_unique,\n\u001b[0;32m--> 697\u001b[0;31m                 invert=invert).reshape(element.shape)\n\u001b[0m\u001b[1;32m    698\u001b[0m \u001b[0;34m\u001b[0m\u001b[0m\n\u001b[1;32m    699\u001b[0m \u001b[0;34m\u001b[0m\u001b[0m\n",
      "\u001b[0;32m<__array_function__ internals>\u001b[0m in \u001b[0;36min1d\u001b[0;34m(*args, **kwargs)\u001b[0m\n",
      "\u001b[0;32m/usr/local/lib/python3.7/site-packages/numpy/lib/arraysetops.py\u001b[0m in \u001b[0;36min1d\u001b[0;34m(ar1, ar2, assume_unique, invert)\u001b[0m\n\u001b[1;32m    573\u001b[0m     \u001b[0;32mif\u001b[0m \u001b[0;32mnot\u001b[0m \u001b[0massume_unique\u001b[0m\u001b[0;34m:\u001b[0m\u001b[0;34m\u001b[0m\u001b[0;34m\u001b[0m\u001b[0m\n\u001b[1;32m    574\u001b[0m         \u001b[0mar1\u001b[0m\u001b[0;34m,\u001b[0m \u001b[0mrev_idx\u001b[0m \u001b[0;34m=\u001b[0m \u001b[0mnp\u001b[0m\u001b[0;34m.\u001b[0m\u001b[0munique\u001b[0m\u001b[0;34m(\u001b[0m\u001b[0mar1\u001b[0m\u001b[0;34m,\u001b[0m \u001b[0mreturn_inverse\u001b[0m\u001b[0;34m=\u001b[0m\u001b[0;32mTrue\u001b[0m\u001b[0;34m)\u001b[0m\u001b[0;34m\u001b[0m\u001b[0;34m\u001b[0m\u001b[0m\n\u001b[0;32m--> 575\u001b[0;31m         \u001b[0mar2\u001b[0m \u001b[0;34m=\u001b[0m \u001b[0mnp\u001b[0m\u001b[0;34m.\u001b[0m\u001b[0munique\u001b[0m\u001b[0;34m(\u001b[0m\u001b[0mar2\u001b[0m\u001b[0;34m)\u001b[0m\u001b[0;34m\u001b[0m\u001b[0;34m\u001b[0m\u001b[0m\n\u001b[0m\u001b[1;32m    576\u001b[0m \u001b[0;34m\u001b[0m\u001b[0m\n\u001b[1;32m    577\u001b[0m     \u001b[0mar\u001b[0m \u001b[0;34m=\u001b[0m \u001b[0mnp\u001b[0m\u001b[0;34m.\u001b[0m\u001b[0mconcatenate\u001b[0m\u001b[0;34m(\u001b[0m\u001b[0;34m(\u001b[0m\u001b[0mar1\u001b[0m\u001b[0;34m,\u001b[0m \u001b[0mar2\u001b[0m\u001b[0;34m)\u001b[0m\u001b[0;34m)\u001b[0m\u001b[0;34m\u001b[0m\u001b[0;34m\u001b[0m\u001b[0m\n",
      "\u001b[0;32m<__array_function__ internals>\u001b[0m in \u001b[0;36munique\u001b[0;34m(*args, **kwargs)\u001b[0m\n",
      "\u001b[0;32m/usr/local/lib/python3.7/site-packages/numpy/lib/arraysetops.py\u001b[0m in \u001b[0;36m_unique_dispatcher\u001b[0;34m(ar, return_index, return_inverse, return_counts, axis)\u001b[0m\n\u001b[1;32m    144\u001b[0m \u001b[0;34m\u001b[0m\u001b[0m\n\u001b[1;32m    145\u001b[0m \u001b[0;34m\u001b[0m\u001b[0m\n\u001b[0;32m--> 146\u001b[0;31m def _unique_dispatcher(ar, return_index=None, return_inverse=None,\n\u001b[0m\u001b[1;32m    147\u001b[0m                        return_counts=None, axis=None):\n\u001b[1;32m    148\u001b[0m     \u001b[0;32mreturn\u001b[0m \u001b[0;34m(\u001b[0m\u001b[0mar\u001b[0m\u001b[0;34m,\u001b[0m\u001b[0;34m)\u001b[0m\u001b[0;34m\u001b[0m\u001b[0;34m\u001b[0m\u001b[0m\n",
      "\u001b[0;31mKeyboardInterrupt\u001b[0m: "
     ]
    }
   ],
   "source": [
    "a = extract_values(linid_idx, 50, sim_name.data, sim_name.indices, sim_name.indptr)"
   ]
  },
  {
   "cell_type": "markdown",
   "metadata": {},
   "source": [
    "## Correct cython code!!"
   ]
  },
  {
   "cell_type": "code",
   "execution_count": 13,
   "metadata": {},
   "outputs": [],
   "source": [
    "%%cython\n",
    "import numpy as np\n",
    "from tqdm import tqdm_notebook as tqdm\n",
    "\n",
    "cdef list get_inorder_sliced(int[:] tmp_idxs, int[:] sliced, long[:] available_idxs):\n",
    "    cdef dict idxs_dict\n",
    "    cdef list tuple_sliced\n",
    "    \n",
    "    idxs_dict = {k:v for v,k in enumerate(tmp_idxs)}\n",
    "    tuple_sliced = [( idxs_dict[sliced[i]] , i)   for i in available_idxs]\n",
    "    tuple_sliced.sort(key=lambda tup: tup[0])\n",
    "    tuple_sliced = [x[1] for x in tuple_sliced]\n",
    "    return tuple_sliced\n",
    "    \n",
    "\n",
    "cpdef extract_values_2(list idxs, int k, float[:] data, int[:] indices, int[:] indptr):\n",
    "    \n",
    "    cdef Py_ssize_t x_idxs = len(idxs)\n",
    "    cdef int x\n",
    "    cdef int t\n",
    "    cdef int indptr_start\n",
    "    cdef int indptr_end\n",
    "    cdef float[:] row_data\n",
    "    \n",
    "    cdef long[:] available_idxs\n",
    "    cdef list ordered_available\n",
    "            \n",
    "    res = np.zeros((x_idxs, k), dtype=float)\n",
    "    cdef double[:, :] res_view = res\n",
    "    \n",
    "    for x in tqdm(range(x_idxs)):\n",
    "        indptr_start = indptr[x]\n",
    "        indptr_end = indptr[x+1]\n",
    "        \n",
    "    \n",
    "        available_idxs = np.where(np.isin(indices[indptr_start : indptr_end], idxs[x]))[0]\n",
    "    \n",
    "        ordered_available = get_inorder_sliced(idxs[x], indices[indptr_start : indptr_end], available_idxs)\n",
    "    \n",
    "        row_data = data[indptr_start:indptr_end]\n",
    "        for t in range(len(ordered_available)):\n",
    "            res_view[x, t] = row_data[ordered_available[t]] \n",
    "    \n",
    "    return res"
   ]
  },
  {
   "cell_type": "code",
   "execution_count": 14,
   "metadata": {},
   "outputs": [
    {
     "name": "stderr",
     "output_type": "stream",
     "text": [
      "/usr/local/lib/python3.7/site-packages/ipykernel_launcher.py:1: TqdmDeprecationWarning: This function will be removed in tqdm==5.0.0\n",
      "Please use `tqdm.notebook.tqdm` instead of `tqdm.tqdm_notebook`\n",
      "  \"\"\"Entry point for launching an IPython kernel.\n"
     ]
    },
    {
     "data": {
      "application/vnd.jupyter.widget-view+json": {
       "model_id": "04c648d41e234ab996a49455148a69b4",
       "version_major": 2,
       "version_minor": 0
      },
      "text/plain": [
       "HBox(children=(FloatProgress(value=0.0, max=228176.0), HTML(value='')))"
      ]
     },
     "metadata": {},
     "output_type": "display_data"
    },
    {
     "name": "stdout",
     "output_type": "stream",
     "text": [
      "\n"
     ]
    }
   ],
   "source": [
    "a = extract_values_2(linid_idx, 50, sim_name.data, sim_name.indices, sim_name.indptr)"
   ]
  },
  {
   "cell_type": "code",
   "execution_count": 324,
   "metadata": {},
   "outputs": [
    {
     "data": {
      "text/plain": [
       "array([1.        , 0.53846157, 0.53846157, 0.375     , 0.42857143,\n",
       "       0.42857143, 0.42857143, 0.42857143, 0.40000001, 0.3125    ,\n",
       "       0.375     , 0.375     , 0.375     , 0.375     , 0.375     ,\n",
       "       0.375     , 0.35714287, 0.35714287, 0.35714287, 0.35294119,\n",
       "       0.35294119, 0.35294119, 0.35294119, 0.35294119, 0.35294119,\n",
       "       0.35294119, 0.35294119, 0.2631579 , 0.27777779, 0.27777779,\n",
       "       0.33333334, 0.33333334, 0.33333334, 0.33333334, 0.33333334,\n",
       "       0.33333334, 0.33333334, 0.33333334, 0.33333334, 0.33333334,\n",
       "       0.33333334, 0.33333334, 0.33333334, 0.33333334, 0.33333334,\n",
       "       0.33333334, 0.33333334, 0.31578946, 0.31578946, 0.31578946])"
      ]
     },
     "execution_count": 324,
     "metadata": {},
     "output_type": "execute_result"
    }
   ],
   "source": [
    "a[2]"
   ]
  },
  {
   "cell_type": "code",
   "execution_count": null,
   "metadata": {},
   "outputs": [],
   "source": [
    "linid_ = []\n",
    "linid_idx = []\n",
    "linid_score = []\n",
    "linid_name_cosine = []\n",
    "linid_email_cosine = []\n",
    "linid_phone_cosine = []\n",
    "linid_address_cosine = []\n",
    "linid_record_id = []\n",
    "k=50\n",
    "\n",
    "tr = df_train[['record_id', 'linked_id']]\n",
    "for x in tqdm(range(df_test.shape[0])):\n",
    "    #df = df_train.loc[hybrid[x].nonzero()[1][hybrid[x].data.argsort()[::-1]],:][:k]\n",
    "    indices = hybrid[x].nonzero()[1][hybrid[x].data.argsort()[::-1]][:k]\n",
    "    df = tr.loc[indices, :][:k]\n",
    "    linid_.append(df['linked_id'].values)\n",
    "    linid_idx.append(indices)    # TODO CAMBIATO QUI\n",
    "    linid_record_id.append(df.record_id.values)\n",
    "    linid_score.append(np.sort(hybrid[x].data)[::-1][:k]) # Questo ha senso perché tanto gli indices sono sortati in base allo scores di hybrid\n",
    "    linid_name_cosine.append([sim_name[x, t] for t in indices])\n",
    "    #linid_email_cosine.append([sim_email[x, t] for t in indices])\n",
    "    #linid_phone_cosine.append([sim_phone[x, t] for t in indices])\n",
    "    #linid_address_cosine.append([sim_address[x, t] for t in indices])\n",
    "    "
   ]
  },
  {
   "cell_type": "code",
   "execution_count": 325,
   "metadata": {},
   "outputs": [
    {
     "data": {
      "application/vnd.jupyter.widget-view+json": {
       "model_id": "c5eb9d96d16543a3be51499bbbbb9896",
       "version_major": 2,
       "version_minor": 0
      },
      "text/plain": [
       "HBox(children=(IntProgress(value=0, max=228176), HTML(value='')))"
      ]
     },
     "metadata": {},
     "output_type": "display_data"
    },
    {
     "name": "stdout",
     "output_type": "stream",
     "text": [
      "\n"
     ]
    },
    {
     "data": {
      "application/vnd.jupyter.widget-view+json": {
       "model_id": "29e9a61dd0ee42ffb7fb2fce3164c35e",
       "version_major": 2,
       "version_minor": 0
      },
      "text/plain": [
       "HBox(children=(IntProgress(value=0, max=228176), HTML(value='')))"
      ]
     },
     "metadata": {},
     "output_type": "display_data"
    },
    {
     "name": "stdout",
     "output_type": "stream",
     "text": [
      "\n"
     ]
    },
    {
     "data": {
      "application/vnd.jupyter.widget-view+json": {
       "model_id": "8c081717098043e78c27ed2e6832f4db",
       "version_major": 2,
       "version_minor": 0
      },
      "text/plain": [
       "HBox(children=(IntProgress(value=0, max=228176), HTML(value='')))"
      ]
     },
     "metadata": {},
     "output_type": "display_data"
    },
    {
     "name": "stdout",
     "output_type": "stream",
     "text": [
      "\n"
     ]
    },
    {
     "data": {
      "application/vnd.jupyter.widget-view+json": {
       "model_id": "d759b916df1b4b29b230cd01914503c4",
       "version_major": 2,
       "version_minor": 0
      },
      "text/plain": [
       "HBox(children=(IntProgress(value=0, max=228176), HTML(value='')))"
      ]
     },
     "metadata": {},
     "output_type": "display_data"
    },
    {
     "name": "stdout",
     "output_type": "stream",
     "text": [
      "\n"
     ]
    },
    {
     "data": {
      "text/plain": [
       "array([[0., 0., 0., ..., 0., 0., 0.],\n",
       "       [0., 0., 0., ..., 0., 0., 0.],\n",
       "       [0., 0., 0., ..., 0., 0., 0.],\n",
       "       ...,\n",
       "       [0., 0., 0., ..., 0., 0., 0.],\n",
       "       [0., 0., 0., ..., 0., 0., 0.],\n",
       "       [0., 0., 0., ..., 0., 0., 0.]])"
      ]
     },
     "execution_count": 325,
     "metadata": {},
     "output_type": "execute_result"
    }
   ],
   "source": [
    "extract_values_2(linid_idx, 50, sim_name.data, sim_name.indices, sim_name.indptr)\n",
    "extract_values_2(linid_idx, 50, sim_email.data, sim_email.indices, sim_email.indptr)\n",
    "extract_values_2(linid_idx, 50, sim_phone.data, sim_phone.indices, sim_phone.indptr)\n",
    "extract_values_2(linid_idx, 50, sim_address.data, sim_address.indices, sim_address.indptr)"
   ]
  },
  {
   "cell_type": "code",
   "execution_count": null,
   "metadata": {},
   "outputs": [],
   "source": []
  }
 ],
 "metadata": {
  "kernelspec": {
   "display_name": "Python 3",
   "language": "python",
   "name": "python3"
  },
  "language_info": {
   "codemirror_mode": {
    "name": "ipython",
    "version": 3
   },
   "file_extension": ".py",
   "mimetype": "text/x-python",
   "name": "python",
   "nbconvert_exporter": "python",
   "pygments_lexer": "ipython3",
   "version": "3.7.7"
  }
 },
 "nbformat": 4,
 "nbformat_minor": 2
}
